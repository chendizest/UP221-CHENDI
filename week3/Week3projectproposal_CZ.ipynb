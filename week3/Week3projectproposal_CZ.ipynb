{
 "cells": [
  {
   "cell_type": "code",
   "execution_count": null,
   "id": "5ffd27e3-5252-4893-97b4-3621a000293f",
   "metadata": {},
   "outputs": [],
   "source": [
    "# project proposal"
   ]
  },
  {
   "cell_type": "code",
   "execution_count": null,
   "id": "39bed355-8b7b-4847-9b9f-0da02c01cfbe",
   "metadata": {},
   "outputs": [],
   "source": [
    "## Introduction"
   ]
  },
  {
   "cell_type": "code",
   "execution_count": null,
   "id": "9374fc52-9582-4dcc-a804-db6ec9b5b1d7",
   "metadata": {},
   "outputs": [],
   "source": [
    "\"Wildfires, exacerbated by climate change, are a growing planning and policy challenge worldwide, particularly in California. In this study, we focused on three primary local planning mechanisms: the General Plan (GP), Hazard Mitigation Plan (HMP), and Community Wildfire Protection Plan (CWPP), to examine the effectiveness of local mitigation efforts in California's 58 counties. Using content analysis protocols, the study evaluates county-level GPs, HMPs, and CWPPs to assess wildfire management performance and identify common gaps in wildfire management measures across counties. Our evaluation also aligns with the Social Vulnerability Index of 58 CA counties to investigate the relationship between wildfire management performance and each county's socio-economic status. The results provide insights into the effectiveness and shortcomings of current wildfire resilience measures in California's counties. We conclude with implications for planning guidelines and policy-making, aiming to strengthen future wildfire resilience strategies.\""
   ]
  },
  {
   "cell_type": "code",
   "execution_count": null,
   "id": "d48135ed-dd7b-43e7-8392-455c00f7c7b3",
   "metadata": {},
   "outputs": [],
   "source": [
    "## Significance"
   ]
  },
  {
   "cell_type": "code",
   "execution_count": null,
   "id": "22b41171-1047-40f4-937f-f99f586ee86b",
   "metadata": {},
   "outputs": [],
   "source": [
    "\"Due to climate change, wildfire is a growing problem worldwide but it is less studied than other natural hazards such as flood and earthquake. This study takes California, a U.S. state with severe and growing wildfire concerns, as a case study to examine what is lacking in wildfire management and planning effectiveness. It not only examines wildfire management evaluation and guide for California but also provides grounded and generalizable wildfire management gaps in policy-making and planning guidelines for areas with higher wildfire hazard risks. More importantly, the study examines if each county’s socio-economic status impacts wildfire planning effectiveness.\""
   ]
  },
  {
   "cell_type": "code",
   "execution_count": null,
   "id": "97e5f200-3e38-41d0-a18d-2904c493fb22",
   "metadata": {},
   "outputs": [],
   "source": [
    "## Spatial Scope"
   ]
  },
  {
   "cell_type": "code",
   "execution_count": null,
   "id": "81558de6-a703-49d7-9275-2ac93f62b7f4",
   "metadata": {},
   "outputs": [],
   "source": [
    "\"The spatial scope is 58 counties in California, the U.S. Because all the counties in California are experiencing increasingly severe wildfire hazards. Most CA counties are actively taking measures in wildfire planning by adopting the county-level General Plan (GP), Hazard Mitigation Plan (HMP), and Community Wildfire Protection Plan (CWPP). The 58 counties also have social vulnerability index. The CA’s 58 counties are good examples of urgent wildfire management needs, initial planning mechanisms addressing wildfire to evaluate, and social vulnerability index.\""
   ]
  },
  {
   "cell_type": "code",
   "execution_count": null,
   "id": "8a850b16-03ce-4007-a58a-d2102eca1614",
   "metadata": {},
   "outputs": [],
   "source": [
    "## Data Sources"
   ]
  },
  {
   "cell_type": "code",
   "execution_count": null,
   "id": "ed298409-74f1-4d11-912b-ab841ae0407d",
   "metadata": {},
   "outputs": [],
   "source": [
    "1. \"Wildfire Management Planning effective scores created by the FireTools_UCOP_HUD group:\" [links](https://github.com/chendizest/UP221-CHENDI/blob/main/Week2/PE_58CAcounties.csv)\n",
    "2. \":CDC/ATSDR Social Vulnerability Index:\"  [links](https://www.atsdr.cdc.gov/placeandhealth/svi/index.html)"
   ]
  },
  {
   "cell_type": "code",
   "execution_count": null,
   "id": "3d6fc411-5dc8-45a7-af2e-3f5a178a383f",
   "metadata": {},
   "outputs": [],
   "source": [
    "## Preliminary Data Analysis Methods"
   ]
  },
  {
   "cell_type": "code",
   "execution_count": null,
   "id": "18102536-3ff6-4c50-bf64-bcdf00ec2c2e",
   "metadata": {},
   "outputs": [],
   "source": [
    "1. \"Mapping GP, HMP, CWPP, and overall planning effectiveness scores of 58 counties to show current planning effectiveness status of 58 CA counties.\"\n",
    "2. \"Bar graph or other more legible and concise formats to show what wildfire management themes or items are less addressed among 58 CA counties. For example, 58 CA counties may all get a lower score in addressing wildfire structural ignitability.\" \n",
    "3. \"Do a regression analysis to show if social vulnerability scores impact wildfire planning effectiveness of each county.\"\n"
   ]
  },
  {
   "cell_type": "code",
   "execution_count": null,
   "id": "29aa2ef0-1f51-4ecf-8d78-27e8665b13fb",
   "metadata": {},
   "outputs": [],
   "source": [
    "## Potential Conclusion"
   ]
  },
  {
   "cell_type": "code",
   "execution_count": null,
   "id": "10a44d1f-d7b6-41c4-9e87-b9afb795c796",
   "metadata": {},
   "outputs": [],
   "source": [
    "\"The results provide insights into the effectiveness and shortcomings of current wildfire resilience measures in California's counties. The results also provide implications for planning guidelines and policy-making, aiming to strengthen future wildfire resilience strategies. Besides, the evaluation examines if the Social Vulnerability Index of 58 CA counties impact wildfire management performance and each county's socio-economic status.\""
   ]
  }
 ],
 "metadata": {
  "kernelspec": {
   "display_name": "Python 3 (ipykernel)",
   "language": "python",
   "name": "python3"
  },
  "language_info": {
   "codemirror_mode": {
    "name": "ipython",
    "version": 3
   },
   "file_extension": ".py",
   "mimetype": "text/x-python",
   "name": "python",
   "nbconvert_exporter": "python",
   "pygments_lexer": "ipython3",
   "version": "3.11.7"
  }
 },
 "nbformat": 4,
 "nbformat_minor": 5
}
